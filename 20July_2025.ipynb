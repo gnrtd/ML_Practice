{
  "nbformat": 4,
  "nbformat_minor": 0,
  "metadata": {
    "colab": {
      "provenance": [],
      "authorship_tag": "ABX9TyOFap0L6xwvC8d7ETsZZiMs",
      "include_colab_link": true
    },
    "kernelspec": {
      "name": "python3",
      "display_name": "Python 3"
    },
    "language_info": {
      "name": "python"
    }
  },
  "cells": [
    {
      "cell_type": "markdown",
      "metadata": {
        "id": "view-in-github",
        "colab_type": "text"
      },
      "source": [
        "<a href=\"https://colab.research.google.com/github/gnrtd/ML_Practice/blob/main/20July_2025.ipynb\" target=\"_parent\"><img src=\"https://colab.research.google.com/assets/colab-badge.svg\" alt=\"Open In Colab\"/></a>"
      ]
    },
    {
      "cell_type": "code",
      "execution_count": null,
      "metadata": {
        "id": "bFYz687BbNq-"
      },
      "outputs": [],
      "source": [
        "# Loops"
      ]
    },
    {
      "cell_type": "code",
      "source": [
        "for i in range(5):\n",
        "  print(i)\n",
        "  print('hi')\n",
        "print('bye')\n"
      ],
      "metadata": {
        "colab": {
          "base_uri": "https://localhost:8080/"
        },
        "id": "AyqQz1wGeckB",
        "outputId": "db8f74b8-10a5-4995-df07-368d0d2621db"
      },
      "execution_count": null,
      "outputs": [
        {
          "output_type": "stream",
          "name": "stdout",
          "text": [
            "0\n",
            "hi\n",
            "1\n",
            "hi\n",
            "2\n",
            "hi\n",
            "3\n",
            "hi\n",
            "4\n",
            "hi\n",
            "bye\n"
          ]
        }
      ]
    },
    {
      "cell_type": "code",
      "source": [
        "a = '#'\n",
        "for i in range(10):\n",
        "  print(a)\n",
        "  print(i)\n",
        "print(i)"
      ],
      "metadata": {
        "colab": {
          "base_uri": "https://localhost:8080/"
        },
        "id": "zU_KwrvCeq1-",
        "outputId": "9401e5e5-1f0e-4d83-b6a6-766acacfab28"
      },
      "execution_count": null,
      "outputs": [
        {
          "output_type": "stream",
          "name": "stdout",
          "text": [
            "#\n",
            "0\n",
            "#\n",
            "1\n",
            "#\n",
            "2\n",
            "#\n",
            "3\n",
            "#\n",
            "4\n",
            "#\n",
            "5\n",
            "#\n",
            "6\n",
            "#\n",
            "7\n",
            "#\n",
            "8\n",
            "#\n",
            "9\n",
            "9\n"
          ]
        }
      ]
    },
    {
      "cell_type": "code",
      "source": [
        "# fibonacci\n",
        "\n",
        "a = 0\n",
        "b = 1\n",
        "print(a)\n",
        "print(b)\n",
        "for i in range(20):\n",
        "  c = a + b\n",
        "  print(c)\n",
        "  a = b\n",
        "  b = c"
      ],
      "metadata": {
        "colab": {
          "base_uri": "https://localhost:8080/"
        },
        "id": "Vmj9H9EVgQ5x",
        "outputId": "6375bcd5-7e58-4a6e-94e9-043733e827c5"
      },
      "execution_count": null,
      "outputs": [
        {
          "output_type": "stream",
          "name": "stdout",
          "text": [
            "0\n",
            "1\n",
            "1\n",
            "2\n",
            "3\n",
            "5\n",
            "8\n",
            "13\n",
            "21\n",
            "34\n",
            "55\n",
            "89\n",
            "144\n",
            "233\n",
            "377\n",
            "610\n",
            "987\n",
            "1597\n",
            "2584\n",
            "4181\n",
            "6765\n",
            "10946\n"
          ]
        }
      ]
    },
    {
      "cell_type": "code",
      "source": [
        "a = 0\n",
        "b = 1\n",
        "n = int(input('numbers of fibo series you want '))\n",
        "print(f'f0: {a}')\n",
        "print(f'f1: {b}')\n",
        "for i in range(2,n):\n",
        "  c = a + b\n",
        "  print(f'f1{i}: {c}')\n",
        "  a = b\n",
        "  b = c"
      ],
      "metadata": {
        "colab": {
          "base_uri": "https://localhost:8080/"
        },
        "id": "-pJC0zNoqp5i",
        "outputId": "232e6543-86ac-460b-c914-f1e27111823b"
      },
      "execution_count": null,
      "outputs": [
        {
          "output_type": "stream",
          "name": "stdout",
          "text": [
            "numbers of fibo series you want 10\n",
            "f0: 0\n",
            "f1: 1\n",
            "f12: 1\n",
            "f13: 2\n",
            "f14: 3\n",
            "f15: 5\n",
            "f16: 8\n",
            "f17: 13\n",
            "f18: 21\n",
            "f19: 34\n"
          ]
        }
      ]
    },
    {
      "cell_type": "code",
      "source": [
        "a = 5\n",
        "for i in range(1,11):\n",
        "  b = a * i\n",
        "  print(f'{a} x {i} = {b}')"
      ],
      "metadata": {
        "colab": {
          "base_uri": "https://localhost:8080/"
        },
        "id": "vsdfaSkLsFyR",
        "outputId": "92f39320-3b0c-4f74-f212-bc29fdb11af5"
      },
      "execution_count": null,
      "outputs": [
        {
          "output_type": "stream",
          "name": "stdout",
          "text": [
            "5 x 1 = 5\n",
            "5 x 2 = 10\n",
            "5 x 3 = 15\n",
            "5 x 4 = 20\n",
            "5 x 5 = 25\n",
            "5 x 6 = 30\n",
            "5 x 7 = 35\n",
            "5 x 8 = 40\n",
            "5 x 9 = 45\n",
            "5 x 10 = 50\n"
          ]
        }
      ]
    },
    {
      "cell_type": "code",
      "source": [
        "for i in range(1,11):\n",
        "  print(f'5 x {i} = {5 * i}')"
      ],
      "metadata": {
        "colab": {
          "base_uri": "https://localhost:8080/"
        },
        "id": "YhO_W77BsqPD",
        "outputId": "d4084cf1-101a-499c-c43d-6b846cd32661"
      },
      "execution_count": null,
      "outputs": [
        {
          "output_type": "stream",
          "name": "stdout",
          "text": [
            "5 x 1 = 5\n",
            "5 x 2 = 10\n",
            "5 x 3 = 15\n",
            "5 x 4 = 20\n",
            "5 x 5 = 25\n",
            "5 x 6 = 30\n",
            "5 x 7 = 35\n",
            "5 x 8 = 40\n",
            "5 x 9 = 45\n",
            "5 x 10 = 50\n"
          ]
        }
      ]
    },
    {
      "cell_type": "code",
      "source": [
        "n = int(input('Enter a number to generate a table: '))\n",
        "for i in range(1,11):\n",
        "  print(f'{n} x {i} = {n * 1}')"
      ],
      "metadata": {
        "colab": {
          "base_uri": "https://localhost:8080/"
        },
        "id": "VjI3Lh4QtpiG",
        "outputId": "d5303c03-5608-4521-da27-aaf5c51e82ad"
      },
      "execution_count": null,
      "outputs": [
        {
          "output_type": "stream",
          "name": "stdout",
          "text": [
            "Enter a number to generate a table: 7\n",
            "7 x 1 = 7\n",
            "7 x 2 = 7\n",
            "7 x 3 = 7\n",
            "7 x 4 = 7\n",
            "7 x 5 = 7\n",
            "7 x 6 = 7\n",
            "7 x 7 = 7\n",
            "7 x 8 = 7\n",
            "7 x 9 = 7\n",
            "7 x 10 = 7\n"
          ]
        }
      ]
    },
    {
      "cell_type": "code",
      "source": [
        "# put even and odd numbers in different lists from common list L\n",
        "L = [2,54,5,16,51,656,6,5,65,10,84,655486,1,25,5,1,1,21]\n",
        "o = []\n",
        "e = []\n",
        "for i in L:\n",
        "  if i % 2 == 0:\n",
        "    e.append(i)\n",
        "  else:\n",
        "    o.append(i)\n",
        "print(o,e)"
      ],
      "metadata": {
        "colab": {
          "base_uri": "https://localhost:8080/"
        },
        "id": "6kyX1tj6vvUw",
        "outputId": "590f8cac-c523-47e6-918d-bd3b1c08857e"
      },
      "execution_count": null,
      "outputs": [
        {
          "output_type": "stream",
          "name": "stdout",
          "text": [
            "[5, 51, 5, 65, 1, 25, 5, 1, 1, 21] [2, 54, 16, 656, 6, 10, 84, 655486]\n"
          ]
        }
      ]
    },
    {
      "cell_type": "code",
      "source": [],
      "metadata": {
        "id": "7HWxnWTxw4RT"
      },
      "execution_count": null,
      "outputs": []
    }
  ]
}